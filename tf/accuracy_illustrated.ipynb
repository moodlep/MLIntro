{
 "cells": [
  {
   "cell_type": "markdown",
   "metadata": {},
   "source": [
    "accuracy method explored during a debug: \n",
    "\n",
    "batch size was 128. \n",
    "No of classes = 10 (letters from A-J)\n",
    "\n",
    "ipdb> predictions.shape\n",
    "(128, 10)\n",
    "\n",
    "ipdb> labels.shape\n",
    "(128, 10)\n",
    "\n",
    "ipdb> np.argmax(predictions, 1)\n",
    "array([5, 6, 1, 1, 4, 1, 7, 7, 4, 0, 8, 1, 8, 0, 4, 4, 4, 0, 8, 7, 7, 2, 3,\n",
    "       3, 0, 5, 0, 1, 0, 8, 9, 3, 3, 0, 2, 7, 6, 1, 9, 7, 4, 0, 0, 1, 5, 3,\n",
    "       7, 2, 7, 3, 4, 7, 5, 3, 3, 3, 6, 4, 4, 1, 0, 2, 5, 4, 6, 7, 0, 4, 4,\n",
    "       0, 2, 5, 1, 2, 7, 3, 3, 1, 0, 7, 2, 4, 4, 7, 8, 1, 0, 1, 0, 4, 4, 3,\n",
    "       7, 2, 5, 7, 6, 5, 6, 0, 2, 7, 2, 5, 4, 3, 1, 9, 0, 6, 2, 0, 5, 1, 9,\n",
    "       1, 9, 8, 8, 7, 5, 8, 0, 7, 7, 5, 2, 7])\n",
    "\n",
    "ipdb> np.argmax(labels, 1)\n",
    "array([4, 9, 6, 2, 7, 3, 5, 9, 6, 4, 7, 6, 0, 1, 8, 0, 1, 9, 6, 5, 4, 1, 8,\n",
    "       7, 9, 8, 8, 2, 8, 9, 1, 4, 4, 8, 9, 7, 1, 7, 2, 5, 6, 1, 8, 6, 6, 0,\n",
    "       3, 7, 5, 5, 3, 4, 5, 0, 5, 0, 1, 4, 9, 9, 8, 6, 3, 4, 3, 5, 9, 2, 2,\n",
    "       6, 2, 8, 6, 5, 4, 0, 4, 2, 9, 4, 2, 2, 8, 5, 1, 2, 5, 7, 9, 2, 7, 4,\n",
    "       9, 2, 7, 9, 1, 1, 0, 3, 6, 7, 2, 8, 6, 4, 7, 4, 0, 1, 4, 7, 1, 3, 8,\n",
    "       8, 7, 8, 6, 2, 9, 2, 3, 5, 4, 5, 3, 0])\n",
    "\n",
    "ipdb> np.argmax(predictions, 1) == np.argmax(labels, 1)\n",
    "array([False, False, False, False, False, False, False, False, False,\n",
    "       False, False, False, False, False, False, False, False, False,\n",
    "       False, False, False, False, False, False, False, False, False,\n",
    "       False, False, False, False, False, False, False, False,  True,\n",
    "       False, False, False, False, False, False, False, False, False,\n",
    "       False, False, False, False, False, False, False,  True, False,\n",
    "       False, False, False,  True, False, False, False, False, False,\n",
    "        True, False, False, False, False, False, False,  True, False,\n",
    "       False, False, False, False, False, False, False, False,  True,\n",
    "       False, False, False, False, False, False, False, False, False,\n",
    "       False, False, False,  True, False, False, False, False, False,\n",
    "       False, False,  True,  True, False, False, False, False, False,\n",
    "        True, False, False, False, False, False, False, False, False,\n",
    "        True, False, False, False, False, False, False, False,  True,\n",
    "       False, False], dtype=bool)\n",
    "\n",
    "ipdb> np.sum(np.argmax(predictions, 1) == np.argmax(labels, 1))\n",
    "12\n",
    "\n",
    "ipdb> predictions.shape[0]\n",
    "128"
   ]
  }
 ],
 "metadata": {
  "kernelspec": {
   "display_name": "Python 2",
   "language": "python",
   "name": "python2"
  },
  "language_info": {
   "codemirror_mode": {
    "name": "ipython",
    "version": 2
   },
   "file_extension": ".py",
   "mimetype": "text/x-python",
   "name": "python",
   "nbconvert_exporter": "python",
   "pygments_lexer": "ipython2",
   "version": "2.7.11"
  }
 },
 "nbformat": 4,
 "nbformat_minor": 0
}
