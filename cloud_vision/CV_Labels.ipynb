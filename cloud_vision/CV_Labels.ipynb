{
 "cells": [
  {
   "cell_type": "code",
   "execution_count": 1,
   "metadata": {
    "collapsed": false
   },
   "outputs": [
    {
     "data": {
      "image/jpeg": "[encoded data removed]",
      "text/plain": [
       "<IPython.core.display.Image object>"
      ]
     },
     "metadata": {},
     "output_type": "display_data"
    },
    {
     "name": "stdout",
     "output_type": "stream",
     "text": [
      "bird: 0.986160\n",
      "animal: 0.957238\n",
      "vertebrate: 0.911309\n",
      "ciconiiformes: 0.844595\n",
      "flight: 0.832813\n",
      "heron: 0.703645\n",
      "fauna: 0.666651\n",
      "animal migration: 0.638720\n"
     ]
    },
    {
     "data": {
      "image/jpeg": "[encoded data removed]",
      "text/plain": [
       "<IPython.core.display.Image object>"
      ]
     },
     "metadata": {},
     "output_type": "display_data"
    },
    {
     "name": "stdout",
     "output_type": "stream",
     "text": [
      "airplane: 0.961377\n",
      "vehicle: 0.941716\n",
      "aircraft: 0.921717\n",
      "military aircraft: 0.879346\n",
      "air force: 0.821796\n",
      "airliner: 0.807591\n",
      "flight: 0.775227\n",
      "airline: 0.757139\n",
      "takeoff: 0.738246\n",
      "bomber: 0.717826\n"
     ]
    },
    {
     "data": {
      "image/jpeg": "[encoded data removed]",
      "text/plain": [
       "<IPython.core.display.Image object>"
      ]
     },
     "metadata": {},
     "output_type": "display_data"
    },
    {
     "name": "stdout",
     "output_type": "stream",
     "text": [
      "superman: 0.900000\n",
      "comics: 0.532028\n",
      "jumping: 0.519716\n"
     ]
    }
   ],
   "source": [
    "from IPython.display import display, Image\n",
    "import base64\n",
    "from googleapiclient import discovery\n",
    "from oauth2client.client import GoogleCredentials\n",
    "import json\n",
    "import os, sys\n",
    "\n",
    "# Setup\n",
    "DISCOVERY_URL='https://{api}.googleapis.com/$discovery/rest?version={apiVersion}'\n",
    "imagepath = './images/labels/'\n",
    "dirs = os.listdir( imagepath )\n",
    "\n",
    "\"\"\"Run a label request on a single image\"\"\"\n",
    "\n",
    "#Credentials need to be sorted out initially. See Google documentation on this. \n",
    "credentials = GoogleCredentials.from_stream('CloudVisionPrj-3b7fedb71edc.json')\n",
    "service = discovery.build('vision', 'v1', credentials=credentials,\n",
    "                          discoveryServiceUrl=DISCOVERY_URL)\n",
    "\n",
    "for file in dirs:\n",
    "    imagefile = imagepath + file\n",
    "    display(Image(filename=imagefile))\n",
    "\n",
    "    with open(imagefile, 'rb') as image:\n",
    "\n",
    "        #base64 encode for the request\n",
    "        image_content = base64.b64encode(image.read())\n",
    "        service_request = service.images().annotate(body={\n",
    "            'requests': [{\n",
    "                'image': {\n",
    "                    'content': image_content.decode('UTF-8')\n",
    "                },\n",
    "                'features': [{\n",
    "                    'type': 'LABEL_DETECTION',  #type of detection\n",
    "                    'maxResults': 10\n",
    "                }]\n",
    "            }]\n",
    "        })\n",
    "\n",
    "        response = service_request.execute()\n",
    "        # Extract the description\n",
    "        for label in response['responses'][0]['labelAnnotations']:\n",
    "            print label['description'] + \": %f\"  %label['score']\n"
   ]
  },
  {
   "cell_type": "code",
   "execution_count": null,
   "metadata": {
    "collapsed": true
   },
   "outputs": [],
   "source": []
  }
 ],
 "metadata": {
  "kernelspec": {
   "display_name": "Python 2",
   "language": "python",
   "name": "python2"
  },
  "language_info": {
   "codemirror_mode": {
    "name": "ipython",
    "version": 2
   },
   "file_extension": ".py",
   "mimetype": "text/x-python",
   "name": "python",
   "nbconvert_exporter": "python",
   "pygments_lexer": "ipython2",
   "version": "2.7.11"
  }
 },
 "nbformat": 4,
 "nbformat_minor": 0
}
