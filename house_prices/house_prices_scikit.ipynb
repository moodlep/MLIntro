{
 "cells": [
  {
   "cell_type": "code",
   "execution_count": 24,
   "metadata": {
    "collapsed": false
   },
   "outputs": [
    {
     "name": "stdout",
     "output_type": "stream",
     "text": [
      "X training set dimensions:  (37, 1)\n",
      "X test set dimensions:  (10, 1)\n",
      "y training set dimensions:  (37, 1)\n",
      "y test set dimensions:  (10, 1)\n"
     ]
    }
   ],
   "source": [
    "import numpy as np \n",
    "import matplotlib.pyplot as plt\n",
    "from sklearn import linear_model\n",
    "\n",
    "#Load data\n",
    "data = np.loadtxt('ex1data2.txt', delimiter = \",\")\n",
    "\n",
    "#Prepare input training and test sets\n",
    "X = data[:-10,0:1]\n",
    "X_test = data[-10:,0:1]\n",
    "\n",
    "#Prepare target training and test sets\n",
    "y = data[:-10,2].reshape(-1,1)\n",
    "y_test = data[-10:,2].reshape(-1,1)\n",
    "\n",
    "print \"X training set dimensions: \",  X.shape\n",
    "print \"X test set dimensions: \",  X_test.shape\n",
    "print \"y training set dimensions: \",  y.shape\n",
    "print \"y test set dimensions: \",  y_test.shape"
   ]
  },
  {
   "cell_type": "code",
   "execution_count": 25,
   "metadata": {
    "collapsed": false
   },
   "outputs": [
    {
     "data": {
      "text/plain": [
       "<matplotlib.text.Text at 0x10f58d290>"
      ]
     },
     "execution_count": 25,
     "metadata": {},
     "output_type": "execute_result"
    },
    {
     "data": {
      "image/png": "[encoded data removed]",
      "text/plain": [
       "<matplotlib.figure.Figure at 0x10f5a6950>"
      ]
     },
     "metadata": {},
     "output_type": "display_data"
    }
   ],
   "source": [
    "%matplotlib inline\n",
    "# Let's look at the data: \n",
    "fig, (ax0) = plt.subplots(nrows=1)\n",
    "\n",
    "ax0.scatter(X[:,0], y,  color='blue', marker='x')\n",
    "ax0.set_xlabel('Size')\n",
    "ax0.set_ylabel('Price')"
   ]
  },
  {
   "cell_type": "code",
   "execution_count": 26,
   "metadata": {
    "collapsed": false
   },
   "outputs": [
    {
     "name": "stdout",
     "output_type": "stream",
     "text": [
      "co-efficients:  [[ 151.34470331]]\n",
      "intercepts:  [ 43140.76281888]\n",
      "R-squared: 0.3647\n",
      "Residual sum of squares: 4054607731.35\n",
      "Predicted: [ 365807.67027686], Target: [ 345000.]\n",
      "Predicted: [ 681058.68727263], Target: [ 549000.]\n",
      "Predicted: [ 370348.01137618], Target: [ 287000.]\n",
      "Predicted: [ 294978.34912755], Target: [ 368500.]\n",
      "Predicted: [ 381850.20882778], Target: [ 329900.]\n",
      "Predicted: [ 431642.61621693], Target: [ 314000.]\n",
      "Predicted: [ 224754.40679148], Target: [ 299000.]\n",
      "Predicted: [ 172086.45003943], Target: [ 179900.]\n",
      "Predicted: [ 323431.15334992], Target: [ 299900.]\n",
      "Predicted: [ 225208.44090141], Target: [ 239500.]\n"
     ]
    }
   ],
   "source": [
    "#Now train the model: \n",
    "model = linear_model.LinearRegression()\n",
    "model.fit(X, y)\n",
    "\n",
    "# Predict the y values for the test set using the model\n",
    "h = model.predict(X_test)\n",
    "\n",
    "#Let's print some info about our model: \n",
    "print 'co-efficients: ' , model.coef_\n",
    "print 'intercepts: ' , model.intercept_\n",
    "print 'R-squared: %.4f' % model.score(X_test, y_test)\n",
    "print 'Residual sum of squares: %.2f' % np.mean((model.predict(X) - y) ** 2)\n",
    "for i, prediction in enumerate(h):\n",
    "    print 'Predicted: %s, Target: %s' % (prediction, y_test[i])\n",
    "\n"
   ]
  },
  {
   "cell_type": "code",
   "execution_count": 27,
   "metadata": {
    "collapsed": false
   },
   "outputs": [
    {
     "data": {
      "text/plain": [
       "[<matplotlib.lines.Line2D at 0x110352ad0>]"
      ]
     },
     "execution_count": 27,
     "metadata": {},
     "output_type": "execute_result"
    },
    {
     "data": {
      "image/png": "[encoded data removed]",
      "text/plain": [
       "<matplotlib.figure.Figure at 0x110191390>"
      ]
     },
     "metadata": {},
     "output_type": "display_data"
    }
   ],
   "source": [
    "# Add the predicted line to the graph\n",
    "fig, (ax0) = plt.subplots(nrows=1)\n",
    "ax0.scatter(X[:,0], y,  color='blue', marker='x')\n",
    "ax0.set_xlabel('Size')\n",
    "ax0.set_ylabel('Price')\n",
    "ax0.plot(X_test[:,0], h, color='red')"
   ]
  },
  {
   "cell_type": "code",
   "execution_count": 47,
   "metadata": {
    "collapsed": false
   },
   "outputs": [
    {
     "name": "stdout",
     "output_type": "stream",
     "text": [
      "[[ 362175.39739741]]\n"
     ]
    }
   ],
   "source": [
    "record = np.ndarray((1,1))\n",
    "record[0] = [2108.0]\n",
    "predict_record = model.predict(record)\n",
    "print predict_record"
   ]
  }
 ],
 "metadata": {
  "kernelspec": {
   "display_name": "Python 2",
   "language": "python",
   "name": "python2"
  },
  "language_info": {
   "codemirror_mode": {
    "name": "ipython",
    "version": 2
   },
   "file_extension": ".py",
   "mimetype": "text/x-python",
   "name": "python",
   "nbconvert_exporter": "python",
   "pygments_lexer": "ipython2",
   "version": "2.7.11"
  }
 },
 "nbformat": 4,
 "nbformat_minor": 0
}
